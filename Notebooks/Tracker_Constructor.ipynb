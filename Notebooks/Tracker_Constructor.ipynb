{
 "cells": [
  {
   "cell_type": "markdown",
   "metadata": {
    "collapsed": true
   },
   "source": [
    "<center>\n",
    "<h1>Stone Soup Tracker Constructor Demo</h1>\n",
    "Building a tracker from a Stone Soup configuration file, including varying input parameters. To run this notebook the 'runmanager' Stone Soup branch must first be checked out.\n",
    "</center>"
   ]
  },
  {
   "cell_type": "markdown",
   "metadata": {},
   "source": [
    "Set up initial import."
   ]
  },
  {
   "cell_type": "code",
   "execution_count": 1,
   "metadata": {
    "collapsed": true
   },
   "outputs": [],
   "source": [
    "import datetime\n",
    "import numpy as np\n",
    "import copy as copy\n",
    "import tempfile\n",
    "import itertools"
   ]
  },
  {
   "cell_type": "markdown",
   "metadata": {},
   "source": [
    "We must import all the objects that we will build our tracker with."
   ]
  },
  {
   "cell_type": "code",
   "execution_count": 2,
   "metadata": {
    "collapsed": false
   },
   "outputs": [],
   "source": [
    "from collections import defaultdict\n",
    "from stonesoup.models.transition.linear import CombinedLinearGaussianTransitionModel, ConstantVelocity\n",
    "from stonesoup.models.measurement.linear import LinearGaussian\n",
    "from stonesoup.simulator.simple import MultiTargetGroundTruthSimulator\n",
    "from stonesoup.simulator.simple import SimpleDetectionSimulator\n",
    "from stonesoup.predictor.kalman import KalmanPredictor\n",
    "from stonesoup.models.transition.linear import ConstantVelocity\n",
    "from stonesoup.types.state import GaussianState\n",
    "from stonesoup.types.array import StateVector, CovarianceMatrix\n",
    "from stonesoup.updater.kalman import KalmanUpdater\n",
    "from stonesoup.hypothesiser.distance import MahalanobisDistanceHypothesiser\n",
    "from stonesoup.dataassociator.neighbour import NearestNeighbour\n",
    "from stonesoup.initiator.simple import SinglePointInitiator\n",
    "from stonesoup.deleter.error import CovarianceBasedDeleter\n",
    "from stonesoup.tracker.simple import MultiTargetTracker\n",
    "from stonesoup.serialise import YAML\n",
    "from stonesoup.reader.config import ConfigConstituter"
   ]
  },
  {
   "cell_type": "markdown",
   "metadata": {},
   "source": [
    "Now we build the components of our tracker to save in the config file. This process will be replaced with a configuration constructor. The components are built as a set of dictionaries containing 'instructions' on how to build the tracker."
   ]
  },
  {
   "cell_type": "code",
   "execution_count": 3,
   "metadata": {
    "collapsed": true
   },
   "outputs": [],
   "source": [
    "config_transition_model = {'class': 'CombinedLinearGaussianTransitionModel',\n",
    "                           'model_list':(ConstantVelocity(1), ConstantVelocity(1))}"
   ]
  },
  {
   "cell_type": "code",
   "execution_count": 4,
   "metadata": {
    "collapsed": true
   },
   "outputs": [],
   "source": [
    "config_measurement_model = {'class': 'LinearGaussian',\n",
    "                            'ndim_state': 4,\n",
    "                            'mapping':[0, 2],\n",
    "                            'noise_covar':np.diag([10, 50])}"
   ]
  },
  {
   "cell_type": "code",
   "execution_count": 5,
   "metadata": {
    "collapsed": true
   },
   "outputs": [],
   "source": [
    "config_groundtruth_initial_state = {'class': 'GaussianState',\n",
    "                                    'state_vector': StateVector([[0], [0], [0], [0]]),\n",
    "                                    'covar': CovarianceMatrix(np.diag([1000000, 1000, 1000000, 1000]))\n",
    "                                   }\n",
    "\n",
    "config_groundtruth_source = {'class': 'MultiTargetGroundTruthSimulator',\n",
    "                             'transition_model': config_transition_model,\n",
    "                             'initial_state': config_groundtruth_initial_state,\n",
    "                             'timestep': datetime.timedelta(seconds=1),\n",
    "                             'birth_rate': 0.3,\n",
    "                             'death_probability': 0.05\n",
    "                            }"
   ]
  },
  {
   "cell_type": "code",
   "execution_count": 6,
   "metadata": {
    "collapsed": true
   },
   "outputs": [],
   "source": [
    "config_detection_source = {'class': 'SimpleDetectionSimulator',\n",
    "                           'groundtruth': config_groundtruth_source,\n",
    "                            'measurement_model': config_measurement_model,\n",
    "                            'meas_range': np.array([[-1, 1], [-1, 1]])*5000,\n",
    "                            'detection_probability': 0.8,\n",
    "                            'clutter_rate': 5\n",
    "                           }"
   ]
  },
  {
   "cell_type": "code",
   "execution_count": 7,
   "metadata": {
    "collapsed": true
   },
   "outputs": [],
   "source": [
    "config_transition_model_01 = {'class': 'CombinedLinearGaussianTransitionModel',\n",
    "                              'model_list': (ConstantVelocity(1), ConstantVelocity(3)),\n",
    "                             }\n",
    "config_transition_model_02 = {'class': 'CombinedLinearGaussianTransitionModel',\n",
    "                              'model_list': (ConstantVelocity(2), ConstantVelocity(4)),\n",
    "                             }\n",
    "config_transition_models = [config_transition_model_01, config_transition_model_02]\n",
    "\n",
    "config_predictor = {'class': 'KalmanPredictor',\n",
    "                    'transition_model': {'options': config_transition_models}\n",
    "                   }"
   ]
  },
  {
   "cell_type": "code",
   "execution_count": 8,
   "metadata": {
    "collapsed": true
   },
   "outputs": [],
   "source": [
    "config_updater = {'class': 'KalmanUpdater',\n",
    "                  'measurement_model': config_measurement_model\n",
    "                 }"
   ]
  },
  {
   "cell_type": "code",
   "execution_count": 9,
   "metadata": {
    "collapsed": true
   },
   "outputs": [],
   "source": [
    "config_hypothesiser = {'class': 'MahalanobisDistanceHypothesiser',\n",
    "                        'predictor': config_predictor,\n",
    "                        'updater': config_updater\n",
    "                       }\n",
    "\n",
    "config_data_associator = {'class': 'NearestNeighbour',\n",
    "                          'hypothesiser': config_hypothesiser\n",
    "                         }"
   ]
  },
  {
   "cell_type": "code",
   "execution_count": 10,
   "metadata": {
    "collapsed": true
   },
   "outputs": [],
   "source": [
    "config_initiator = {'class': 'SinglePointInitiator',\n",
    "                    'prior_state': GaussianState(np.array([[0], [0], [0], [0]]), np.diag([10000, 100, 10000, 1000])),\n",
    "                    'measurement_model': config_measurement_model\n",
    "                   }"
   ]
  },
  {
   "cell_type": "code",
   "execution_count": 11,
   "metadata": {
    "collapsed": true
   },
   "outputs": [],
   "source": [
    "config_deleter = {'class': 'CovarianceBasedDeleter',\n",
    "                  'covar_trace_thresh': 0.5e3\n",
    "                 }"
   ]
  },
  {
   "cell_type": "code",
   "execution_count": 12,
   "metadata": {
    "collapsed": true
   },
   "outputs": [],
   "source": [
    "config_tracker = {'class': 'MultiTargetTracker',\n",
    "                  'initiator': config_initiator,\n",
    "                  'deleter': config_deleter,\n",
    "                  'detector': config_detection_source,\n",
    "                  'data_associator': config_data_associator,\n",
    "                  'updater': config_updater\n",
    "                 }"
   ]
  },
  {
   "cell_type": "markdown",
   "metadata": {},
   "source": [
    "Next we specify a set of conditions with which to modify the tracker. In this case we are setting a number of repeat runs and changing variables within the tracker."
   ]
  },
  {
   "cell_type": "code",
   "execution_count": 13,
   "metadata": {
    "collapsed": true
   },
   "outputs": [],
   "source": [
    "repeat_condition = {'num_iter': 2}\n",
    "range_condition_1 = {'var': 'covar_trace_thresh', 'values': [0.2e3, 1e3]}\n",
    "range_condition_2 = {'var': 'clutter_rate', 'values': [2, 8]}\n",
    "\n",
    "config_conditions = {'REPEAT': repeat_condition, 'RANGE': [range_condition_1, range_condition_2]}"
   ]
  },
  {
   "cell_type": "markdown",
   "metadata": {},
   "source": [
    "Finally, we build the configuration file by combining the tracker and the modification conditions."
   ]
  },
  {
   "cell_type": "code",
   "execution_count": 14,
   "metadata": {
    "collapsed": true
   },
   "outputs": [],
   "source": [
    "config_top_level = {}\n",
    "config_top_level['tracker'] = config_tracker\n",
    "config_top_level['conditions'] = config_conditions"
   ]
  },
  {
   "cell_type": "code",
   "execution_count": 15,
   "metadata": {
    "collapsed": false
   },
   "outputs": [
    {
     "name": "stdout",
     "output_type": "stream",
     "text": [
      "tracker:\n",
      "  class: MultiTargetTracker\n",
      "  initiator:\n",
      "    class: SinglePointInitiator\n",
      "    prior_state: !stonesoup.types.state.GaussianState\n",
      "    - state_vector: !numpy.ndarray\n",
      "      - [0]\n",
      "      - [0]\n",
      "      - [0]\n",
      "      - [0]\n",
      "    - covar: !numpy.ndarray\n",
      "      - [10000, 0, 0, 0]\n",
      "      - [0, 100, 0, 0]\n",
      "      - [0, 0, 10000, 0]\n",
      "      - [0, 0, 0, 1000]\n",
      "    measurement_model: &id001\n",
      "      class: LinearGaussian\n",
      "      ndim_state: 4\n",
      "      mapping:\n",
      "      - 0\n",
      "      - 2\n",
      "      noise_covar: !numpy.ndarray\n",
      "      - [10, 0]\n",
      "      - [0, 50]\n",
      "  deleter:\n",
      "    class: CovarianceBasedDeleter\n",
      "    covar_trace_thresh: 500.0\n",
      "  detector:\n",
      "    class: SimpleDetectionSimulator\n",
      "    groundtruth:\n",
      "      class: MultiTargetGroundTruthSimulator\n",
      "      transition_model:\n",
      "        class: CombinedLinearGaussianTransitionModel\n",
      "        model_list:\n",
      "        - !stonesoup.models.transition.linear.ConstantVelocity\n",
      "          - noise_diff_coeff: 1\n",
      "        - !stonesoup.models.transition.linear.ConstantVelocity\n",
      "          - noise_diff_coeff: 1\n",
      "      initial_state:\n",
      "        class: GaussianState\n",
      "        state_vector: !numpy.ndarray\n",
      "        - [0]\n",
      "        - [0]\n",
      "        - [0]\n",
      "        - [0]\n",
      "        covar: !numpy.ndarray\n",
      "        - [1000000, 0, 0, 0]\n",
      "        - [0, 1000, 0, 0]\n",
      "        - [0, 0, 1000000, 0]\n",
      "        - [0, 0, 0, 1000]\n",
      "      timestep: !datetime.timedelta 1.0\n",
      "      birth_rate: 0.3\n",
      "      death_probability: 0.05\n",
      "    measurement_model: *id001\n",
      "    meas_range: !numpy.ndarray\n",
      "    - [-5000, 5000]\n",
      "    - [-5000, 5000]\n",
      "    detection_probability: 0.8\n",
      "    clutter_rate: 5\n",
      "  data_associator:\n",
      "    class: NearestNeighbour\n",
      "    hypothesiser:\n",
      "      class: MahalanobisDistanceHypothesiser\n",
      "      predictor:\n",
      "        class: KalmanPredictor\n",
      "        transition_model:\n",
      "          options:\n",
      "          - class: CombinedLinearGaussianTransitionModel\n",
      "            model_list:\n",
      "            - !stonesoup.models.transition.linear.ConstantVelocity\n",
      "              - noise_diff_coeff: 1\n",
      "            - !stonesoup.models.transition.linear.ConstantVelocity\n",
      "              - noise_diff_coeff: 3\n",
      "          - class: CombinedLinearGaussianTransitionModel\n",
      "            model_list:\n",
      "            - !stonesoup.models.transition.linear.ConstantVelocity\n",
      "              - noise_diff_coeff: 2\n",
      "            - !stonesoup.models.transition.linear.ConstantVelocity\n",
      "              - noise_diff_coeff: 4\n",
      "      updater: &id002\n",
      "        class: KalmanUpdater\n",
      "        measurement_model: *id001\n",
      "  updater: *id002\n",
      "conditions:\n",
      "  REPEAT:\n",
      "    num_iter: 2\n",
      "  RANGE:\n",
      "  - var: covar_trace_thresh\n",
      "    values:\n",
      "    - 200.0\n",
      "    - 1000.0\n",
      "  - var: clutter_rate\n",
      "    values:\n",
      "    - 2\n",
      "    - 8\n",
      "\n"
     ]
    }
   ],
   "source": [
    "config_file = YAML().dumps(config_top_level)\n",
    "\n",
    "print(config_file)"
   ]
  },
  {
   "cell_type": "markdown",
   "metadata": {},
   "source": [
    "We will save this config to load in later."
   ]
  },
  {
   "cell_type": "code",
   "execution_count": 16,
   "metadata": {
    "collapsed": false
   },
   "outputs": [
    {
     "name": "stdout",
     "output_type": "stream",
     "text": [
      "C:\\Users\\CJENGL~1\\AppData\\Local\\Temp\\soup_config_remo51z0\n"
     ]
    }
   ],
   "source": [
    "file = tempfile.NamedTemporaryFile(mode='w', prefix=\"soup_config_\", delete=False)\n",
    "file.write(config_file)\n",
    "file.close()\n",
    "print(file.name)"
   ]
  },
  {
   "cell_type": "markdown",
   "metadata": {},
   "source": [
    "Now we read in our saved configuration file. By setting the yaml typ arument to 'safe' we bring in the config as a dictionary rather than a yaml-specific type."
   ]
  },
  {
   "cell_type": "code",
   "execution_count": 17,
   "metadata": {
    "collapsed": false
   },
   "outputs": [],
   "source": [
    "with open(file.name, 'r') as myfile:\n",
    "    config = YAML(typ='safe').load(myfile.read())"
   ]
  },
  {
   "cell_type": "markdown",
   "metadata": {},
   "source": [
    "The tracker constructor is a subclass of Stone Soup reader. It builds a tracker by recursively calling a function to unpack the nested sets of dictionaries."
   ]
  },
  {
   "cell_type": "code",
   "execution_count": 18,
   "metadata": {
    "collapsed": false
   },
   "outputs": [],
   "source": [
    "constituter = ConfigConstituter()\n",
    "\n",
    "tracker = constituter.decode_config(config)"
   ]
  },
  {
   "cell_type": "markdown",
   "metadata": {},
   "source": [
    "Now all that is left is to run the tracker in it's various configurations specified in the config."
   ]
  },
  {
   "cell_type": "code",
   "execution_count": 19,
   "metadata": {
    "collapsed": false,
    "scrolled": true
   },
   "outputs": [
    {
     "name": "stdout",
     "output_type": "stream",
     "text": [
      "Tracker processed.\n",
      "Tracker processed.\n",
      "Tracker processed.\n",
      "Tracker processed.\n",
      "Tracker processed.\n",
      "Tracker processed.\n",
      "Tracker processed.\n",
      "Tracker processed.\n",
      "Tracker processed.\n",
      "Tracker processed.\n",
      "Tracker processed.\n",
      "Tracker processed.\n",
      "Tracker processed.\n",
      "Tracker processed.\n",
      "Tracker processed.\n",
      "Tracker processed.\n",
      "Tracker processed.\n",
      "Tracker processed.\n"
     ]
    }
   ],
   "source": [
    "total_groundtruth_paths = []\n",
    "total_detections = []\n",
    "total_tracks = []\n",
    "\n",
    "for tracker_instance in tracker:\n",
    "\n",
    "    detector = tracker_instance.detector\n",
    "\n",
    "    groundtruth_paths = set()\n",
    "    detections = set() \n",
    "    tracks = set()\n",
    "    \n",
    "    for time, ctracks in tracker_instance.tracks_gen():\n",
    "        detections |= detector.detections\n",
    "        groundtruth_paths |= detector.groundtruth.groundtruth_paths\n",
    "        tracks.update(ctracks)\n",
    "        \n",
    "    total_groundtruth_paths.append(groundtruth_paths)\n",
    "    total_detections.append(detections)\n",
    "    total_tracks.append(tracks)\n",
    "\n",
    "    print(\"Tracker processed.\")"
   ]
  },
  {
   "cell_type": "code",
   "execution_count": null,
   "metadata": {
    "collapsed": true
   },
   "outputs": [],
   "source": []
  }
 ],
 "metadata": {
  "kernelspec": {
   "display_name": "Python 3",
   "language": "python",
   "name": "python3"
  },
  "language_info": {
   "codemirror_mode": {
    "name": "ipython",
    "version": 3
   },
   "file_extension": ".py",
   "mimetype": "text/x-python",
   "name": "python",
   "nbconvert_exporter": "python",
   "pygments_lexer": "ipython3",
   "version": "3.6.0"
  }
 },
 "nbformat": 4,
 "nbformat_minor": 2
}
